{
  "cells": [
    {
      "cell_type": "code",
      "execution_count": null,
      "metadata": {
        "colab": {
          "base_uri": "https://localhost:8080/"
        },
        "id": "S7PpylSwvcCw",
        "outputId": "78578c69-bc84-4601-c1a0-57ea5e0e52e8"
      },
      "outputs": [
        {
          "name": "stdout",
          "output_type": "stream",
          "text": [
            "Mounted at /content/drive\n"
          ]
        }
      ],
      "source": [
        "import cv2\n",
        "import numpy as np\n",
        "import matplotlib.pyplot as plt\n",
        "from google.colab.patches import cv2_imshow\n",
        "import tensorflow as tf\n",
        "from tensorflow.keras.preprocessing.image import ImageDataGenerator\n",
        "import tensorflow.keras.layers as Layers\n",
        "import tensorflow_hub as hub\n",
        "import os\n",
        "\n",
        "from google.colab import drive\n",
        "drive.mount('/content/drive')"
      ]
    },
    {
      "cell_type": "code",
      "execution_count": null,
      "metadata": {
        "id": "wr4rSL9jv0OK"
      },
      "outputs": [],
      "source": [
        "files = [\n",
        "    os.path.join(\n",
        "      os.path.join(os.getcwd(), 'drive/MyDrive/sports/train/baseball'),\n",
        "      f\n",
        "    )\n",
        "    for f in os.listdir(os.path.join(os.getcwd(), 'drive/MyDrive/sports/train/baseball'))\n",
        "]"
      ]
    },
    {
      "cell_type": "code",
      "execution_count": null,
      "metadata": {
        "colab": {
          "base_uri": "https://localhost:8080/"
        },
        "id": "NQefrZOIw3vI",
        "outputId": "cdc0e90a-4068-43d7-fa08-907090778aa1"
      },
      "outputs": [
        {
          "name": "stdout",
          "output_type": "stream",
          "text": [
            "1\n"
          ]
        }
      ],
      "source": [
        "print(len(tf.config.list_physical_devices('GPU')))"
      ]
    },
    {
      "cell_type": "code",
      "execution_count": null,
      "metadata": {
        "colab": {
          "base_uri": "https://localhost:8080/"
        },
        "id": "Sf0y1jj3wCw_",
        "outputId": "cd8a232c-a3cb-4654-cbff-a53ff13e6dc2"
      },
      "outputs": [
        {
          "name": "stdout",
          "output_type": "stream",
          "text": [
            "Found 13492 images belonging to 100 classes.\n",
            "Found 500 images belonging to 100 classes.\n"
          ]
        }
      ],
      "source": [
        "generator = ImageDataGenerator(rescale=1./255, dtype='float32')\n",
        "\n",
        "train = generator.flow_from_directory(\n",
        "    '/content/drive/MyDrive/sports/train',\n",
        "    target_size=(224, 224),\n",
        "    batch_size=32,\n",
        "    class_mode='categorical',\n",
        "    shuffle=True\n",
        ")\n",
        "\n",
        "augmentation = tf.keras.Sequential([\n",
        "    tf.keras.layers.experimental.preprocessing.RandomFlip('horizontal'),\n",
        "    tf.keras.layers.experimental.preprocessing.RandomRotation(0.1),\n",
        "    tf.keras.layers.experimental.preprocessing.RandomZoom(0.1)\n",
        "  ], name='augmentation'\n",
        ")\n",
        "\n",
        "val = generator.flow_from_directory(\n",
        "    '/content/drive/MyDrive/sports/valid',\n",
        "    target_size=(224, 224),\n",
        "    batch_size=16,\n",
        "    class_mode='categorical',\n",
        "    shuffle=False\n",
        ")"
      ]
    },
    {
      "cell_type": "code",
      "execution_count": null,
      "metadata": {
        "colab": {
          "base_uri": "https://localhost:8080/"
        },
        "id": "79TNCsmJyOy5",
        "outputId": "ff56ebfd-327a-4dfe-f0be-6cae848939c0"
      },
      "outputs": [
        {
          "name": "stdout",
          "output_type": "stream",
          "text": [
            "Epoch 1/5\n",
            "422/422 [==============================] - 3344s 8s/step - loss: 2.0130 - Accuracy: 0.5935 - val_loss: 0.3499 - val_Accuracy: 0.8958 - lr: 0.0100\n",
            "Epoch 2/5\n",
            "422/422 [==============================] - 49s 116ms/step - loss: 0.9055 - Accuracy: 0.7481 - val_loss: 0.3057 - val_Accuracy: 0.8750 - lr: 0.0100\n",
            "Epoch 3/5\n",
            "422/422 [==============================] - 50s 118ms/step - loss: 0.8303 - Accuracy: 0.7702 - val_loss: 0.3849 - val_Accuracy: 0.8750 - lr: 0.0100\n",
            "Epoch 4/5\n",
            "422/422 [==============================] - 51s 121ms/step - loss: 0.8029 - Accuracy: 0.7738 - val_loss: 0.2662 - val_Accuracy: 0.9167 - lr: 0.0100\n",
            "Epoch 5/5\n",
            "422/422 [==============================] - 51s 121ms/step - loss: 0.7604 - Accuracy: 0.7868 - val_loss: 0.2660 - val_Accuracy: 0.8958 - lr: 0.0100\n"
          ]
        }
      ],
      "source": [
        "earlystop = tf.keras.callbacks.EarlyStopping(monitor='val_loss', min_delta=0.0001, patience = 5, verbose=1, mode='auto', restore_best_weights=True)\n",
        "lr = tf.keras.callbacks.ReduceLROnPlateau(monitor='val_loss', factor=0.2, patience=2, verbose=1, mode='auto')\n",
        "\n",
        "model = tf.keras.Sequential([\n",
        "    tf.keras.layers.Input(shape=(224,224,3)),\n",
        "    augmentation,\n",
        "    hub.KerasLayer(\"https://www.kaggle.com/models/google/efficientnet-v2/frameworks/TensorFlow2/variations/imagenet1k-b0-classification/versions/2\", trainable=False),\n",
        "    tf.keras.layers.BatchNormalization(),\n",
        "    tf.keras.layers.Dense(len(train.class_indices), activation=tf.keras.activations.softmax)\n",
        "])\n",
        "\n",
        "model.compile(\n",
        "    loss=tf.keras.losses.categorical_crossentropy,\n",
        "    optimizer=tf.keras.optimizers.Adam(learning_rate=0.01),\n",
        "    metrics=[\"Accuracy\"])\n",
        "\n",
        "with tf.device(tf.test.gpu_device_name()):\n",
        "  model.fit(train,validation_data=val,epochs=5,callbacks=[earlystop,lr], steps_per_epoch=len(train), validation_steps=int(len(val)*0.1))"
      ]
    },
    {
      "cell_type": "code",
      "execution_count": null,
      "metadata": {
        "colab": {
          "base_uri": "https://localhost:8080/"
        },
        "id": "2dPSlwkGe2z9",
        "outputId": "68a15dd4-272e-4df7-e30f-3827ff880968"
      },
      "outputs": [
        {
          "name": "stdout",
          "output_type": "stream",
          "text": [
            "Epoch 1/20\n",
            "422/422 [==============================] - 64s 152ms/step - loss: 0.2608 - Accuracy: 0.9205 - val_loss: 0.1351 - val_Accuracy: 0.9375 - lr: 4.0000e-04\n",
            "Epoch 2/20\n",
            "422/422 [==============================] - 63s 150ms/step - loss: 0.2633 - Accuracy: 0.9202 - val_loss: 0.1309 - val_Accuracy: 0.9375 - lr: 4.0000e-04\n",
            "Epoch 3/20\n",
            "422/422 [==============================] - 61s 145ms/step - loss: 0.2495 - Accuracy: 0.9238 - val_loss: 0.1167 - val_Accuracy: 0.9583 - lr: 4.0000e-04\n",
            "Epoch 4/20\n",
            "422/422 [==============================] - 65s 154ms/step - loss: 0.2503 - Accuracy: 0.9248 - val_loss: 0.1457 - val_Accuracy: 0.9167 - lr: 4.0000e-04\n",
            "Epoch 5/20\n",
            "422/422 [==============================] - ETA: 0s - loss: 0.2446 - Accuracy: 0.9229\n",
            "Epoch 5: ReduceLROnPlateau reducing learning rate to 7.999999215826393e-05.\n",
            "422/422 [==============================] - 62s 146ms/step - loss: 0.2446 - Accuracy: 0.9229 - val_loss: 0.1433 - val_Accuracy: 0.9375 - lr: 4.0000e-04\n",
            "Epoch 6/20\n",
            "422/422 [==============================] - 61s 145ms/step - loss: 0.2322 - Accuracy: 0.9283 - val_loss: 0.1447 - val_Accuracy: 0.9375 - lr: 8.0000e-05\n",
            "Epoch 7/20\n",
            "422/422 [==============================] - ETA: 0s - loss: 0.2328 - Accuracy: 0.9283\n",
            "Epoch 7: ReduceLROnPlateau reducing learning rate to 1.599999814061448e-05.\n",
            "422/422 [==============================] - 62s 147ms/step - loss: 0.2328 - Accuracy: 0.9283 - val_loss: 0.1380 - val_Accuracy: 0.9375 - lr: 8.0000e-05\n",
            "Epoch 8/20\n",
            "422/422 [==============================] - ETA: 0s - loss: 0.2328 - Accuracy: 0.9277Restoring model weights from the end of the best epoch: 3.\n",
            "422/422 [==============================] - 66s 156ms/step - loss: 0.2328 - Accuracy: 0.9277 - val_loss: 0.1383 - val_Accuracy: 0.9167 - lr: 1.6000e-05\n",
            "Epoch 8: early stopping\n"
          ]
        },
        {
          "data": {
            "text/plain": [
              "<keras.src.callbacks.History at 0x7bc998711810>"
            ]
          },
          "execution_count": 9,
          "metadata": {},
          "output_type": "execute_result"
        }
      ],
      "source": [
        "earlystop = tf.keras.callbacks.EarlyStopping(monitor='val_loss', min_delta=0.0001, patience = 5, verbose=1, mode='auto', restore_best_weights=True)\n",
        "lr = tf.keras.callbacks.ReduceLROnPlateau(monitor='val_loss', factor=0.2, patience=2, verbose=1, mode='auto')\n",
        "\n",
        "with tf.device(tf.test.gpu_device_name()):\n",
        "  model.fit(train,validation_data=val,epochs=20,callbacks=[earlystop,lr], steps_per_epoch=len(train), validation_steps=int(len(val)*0.1))"
      ]
    },
    {
      "cell_type": "code",
      "execution_count": null,
      "metadata": {
        "colab": {
          "base_uri": "https://localhost:8080/"
        },
        "id": "NhSGq0HiGsCi",
        "outputId": "d2f8a044-9702-435b-a1d4-0fc970df0dd8"
      },
      "outputs": [
        {
          "name": "stdout",
          "output_type": "stream",
          "text": [
            "500/500 [==============================] - 38s 74ms/step - loss: 0.2743 - Accuracy: 0.9180\n"
          ]
        },
        {
          "data": {
            "text/plain": [
              "[0.27427488565444946, 0.9179999828338623]"
            ]
          },
          "execution_count": 25,
          "metadata": {},
          "output_type": "execute_result"
        }
      ],
      "source": [
        "model.evaluate(test)"
      ]
    },
    {
      "cell_type": "code",
      "execution_count": null,
      "metadata": {
        "colab": {
          "base_uri": "https://localhost:8080/"
        },
        "id": "KZbTgSzbQTpE",
        "outputId": "b000e7f7-f2bd-4c7c-8178-5c9690aae256"
      },
      "outputs": [
        {
          "name": "stdout",
          "output_type": "stream",
          "text": [
            "Epoch 1/10\n",
            "422/422 [==============================] - 84s 177ms/step - loss: 2.3808 - Accuracy: 0.3806 - val_loss: 1.9508 - val_Accuracy: 0.5625 - lr: 0.0100\n",
            "Epoch 2/10\n",
            "422/422 [==============================] - 64s 152ms/step - loss: 1.9186 - Accuracy: 0.4804 - val_loss: 1.8154 - val_Accuracy: 0.5833 - lr: 0.0100\n",
            "Epoch 3/10\n",
            "422/422 [==============================] - 66s 155ms/step - loss: 1.8080 - Accuracy: 0.5052 - val_loss: 1.5907 - val_Accuracy: 0.6458 - lr: 0.0100\n",
            "Epoch 4/10\n",
            "422/422 [==============================] - 65s 153ms/step - loss: 1.7368 - Accuracy: 0.5289 - val_loss: 1.9703 - val_Accuracy: 0.6667 - lr: 0.0100\n",
            "Epoch 5/10\n",
            "422/422 [==============================] - 64s 152ms/step - loss: 1.6582 - Accuracy: 0.5459 - val_loss: 1.2954 - val_Accuracy: 0.7292 - lr: 0.0100\n",
            "Epoch 6/10\n",
            "422/422 [==============================] - 64s 151ms/step - loss: 1.6156 - Accuracy: 0.5557 - val_loss: 1.4720 - val_Accuracy: 0.7500 - lr: 0.0100\n",
            "Epoch 7/10\n",
            "422/422 [==============================] - ETA: 0s - loss: 1.5526 - Accuracy: 0.5635\n",
            "Epoch 7: ReduceLROnPlateau reducing learning rate to 0.0019999999552965165.\n",
            "422/422 [==============================] - 63s 149ms/step - loss: 1.5526 - Accuracy: 0.5635 - val_loss: 1.3924 - val_Accuracy: 0.7708 - lr: 0.0100\n",
            "Epoch 8/10\n",
            "422/422 [==============================] - 63s 150ms/step - loss: 1.2976 - Accuracy: 0.6243 - val_loss: 1.0411 - val_Accuracy: 0.8125 - lr: 0.0020\n",
            "Epoch 9/10\n",
            "422/422 [==============================] - 65s 153ms/step - loss: 1.2309 - Accuracy: 0.6429 - val_loss: 1.1034 - val_Accuracy: 0.8333 - lr: 0.0020\n",
            "Epoch 10/10\n",
            "422/422 [==============================] - 65s 154ms/step - loss: 1.2122 - Accuracy: 0.6420 - val_loss: 0.9377 - val_Accuracy: 0.8542 - lr: 0.0020\n"
          ]
        }
      ],
      "source": [
        "url = \"https://www.kaggle.com/models/tensorflow/resnet-50/frameworks/TensorFlow2/variations/classification/versions/1\"\n",
        "earlystop = tf.keras.callbacks.EarlyStopping(monitor='val_loss', min_delta=0.0001, patience = 5, verbose=1, mode='auto', restore_best_weights=True)\n",
        "lr = tf.keras.callbacks.ReduceLROnPlateau(monitor='val_loss', factor=0.2, patience=2, verbose=1, mode='auto')\n",
        "\n",
        "model = tf.keras.Sequential([\n",
        "    tf.keras.layers.Input(shape=(224,224,3)),\n",
        "    augmentation,\n",
        "    hub.KerasLayer(url, trainable=False, input_shape=(224,224,3)),\n",
        "    tf.keras.layers.Dense(1000, activation=tf.keras.activations.relu),\n",
        "    tf.keras.layers.Dropout(0.2),\n",
        "    tf.keras.layers.Dense(len(train.class_indices), activation=tf.keras.activations.softmax)\n",
        "])\n",
        "\n",
        "model.compile(\n",
        "    loss=tf.keras.losses.categorical_crossentropy,\n",
        "    optimizer=tf.keras.optimizers.Adam(learning_rate=0.01),\n",
        "    metrics=[\"Accuracy\"])\n",
        "\n",
        "with tf.device(tf.test.gpu_device_name()):\n",
        "  model.fit(train,validation_data=val,epochs=10,callbacks=[earlystop,lr], steps_per_epoch=len(train), validation_steps=int(len(val)*0.1))"
      ]
    },
    {
      "cell_type": "code",
      "execution_count": null,
      "metadata": {
        "colab": {
          "base_uri": "https://localhost:8080/"
        },
        "id": "50i62EkfMfuN",
        "outputId": "043ee15b-5c23-4a87-8405-5df82fc09e04"
      },
      "outputs": [
        {
          "name": "stdout",
          "output_type": "stream",
          "text": [
            "Epoch 1/10\n",
            "422/422 [==============================] - 72s 170ms/step - loss: 1.2125 - Accuracy: 0.6469 - val_loss: 0.8904 - val_Accuracy: 0.8750 - lr: 0.0020\n",
            "Epoch 2/10\n",
            "422/422 [==============================] - 67s 158ms/step - loss: 1.1812 - Accuracy: 0.6535 - val_loss: 0.9799 - val_Accuracy: 0.8542 - lr: 0.0020\n",
            "Epoch 3/10\n",
            "422/422 [==============================] - ETA: 0s - loss: 1.1509 - Accuracy: 0.6582\n",
            "Epoch 3: ReduceLROnPlateau reducing learning rate to 0.0003999999724328518.\n",
            "422/422 [==============================] - 63s 150ms/step - loss: 1.1509 - Accuracy: 0.6582 - val_loss: 0.9369 - val_Accuracy: 0.8333 - lr: 0.0020\n",
            "Epoch 4/10\n",
            "422/422 [==============================] - 66s 156ms/step - loss: 1.1127 - Accuracy: 0.6680 - val_loss: 0.9432 - val_Accuracy: 0.8125 - lr: 4.0000e-04\n",
            "Epoch 5/10\n",
            "422/422 [==============================] - ETA: 0s - loss: 1.1064 - Accuracy: 0.6728\n",
            "Epoch 5: ReduceLROnPlateau reducing learning rate to 7.999999215826393e-05.\n",
            "422/422 [==============================] - 64s 153ms/step - loss: 1.1064 - Accuracy: 0.6728 - val_loss: 0.9620 - val_Accuracy: 0.7917 - lr: 4.0000e-04\n",
            "Epoch 6/10\n",
            "422/422 [==============================] - ETA: 0s - loss: 1.0989 - Accuracy: 0.6759Restoring model weights from the end of the best epoch: 1.\n",
            "422/422 [==============================] - 67s 158ms/step - loss: 1.0989 - Accuracy: 0.6759 - val_loss: 0.9557 - val_Accuracy: 0.7917 - lr: 8.0000e-05\n",
            "Epoch 6: early stopping\n"
          ]
        },
        {
          "data": {
            "text/plain": [
              "<keras.src.callbacks.History at 0x790dbd454f70>"
            ]
          },
          "execution_count": 5,
          "metadata": {},
          "output_type": "execute_result"
        }
      ],
      "source": [
        "model.fit(train,validation_data=val,epochs=10,callbacks=[earlystop,lr], steps_per_epoch=len(train), validation_steps=int(len(val)*0.1))"
      ]
    },
    {
      "cell_type": "code",
      "execution_count": null,
      "metadata": {
        "colab": {
          "base_uri": "https://localhost:8080/"
        },
        "id": "LzFNjwcmfeF-",
        "outputId": "58aca573-06ad-47c6-8291-69f7e4a8bdc6"
      },
      "outputs": [
        {
          "name": "stderr",
          "output_type": "stream",
          "text": [
            "/usr/local/lib/python3.10/dist-packages/torchvision/transforms/v2/_deprecated.py:43: UserWarning: The transform `ToTensor()` is deprecated and will be removed in a future release. Instead, please use `v2.Compose([v2.ToImage(), v2.ToDtype(torch.float32, scale=True)])`.\n",
            "  warnings.warn(\n"
          ]
        }
      ],
      "source": [
        "train_transforms = v2.Compose([\n",
        "    v2.Resize(224),\n",
        "    v2.RandomHorizontalFlip(),\n",
        "    v2.RandomRotation(degrees=(0,15)),\n",
        "    v2.ToTensor(),\n",
        "    v2.Normalize(\n",
        "        [0.485, 0.456, 0.406],\n",
        "        [0.229,0.224,0.225]\n",
        "    )\n",
        "])\n",
        "\n",
        "train_df = datasets.ImageFolder(\n",
        "    root = r'/content/drive/MyDrive/sports/train',\n",
        "    transform= train_transforms,\n",
        "    )\n",
        "\n",
        "\n",
        "val_transforms = v2.Compose([\n",
        "    v2.Resize(224),\n",
        "    v2.ToTensor(),\n",
        "    v2.Normalize(\n",
        "        [0.485, 0.456, 0.406],\n",
        "        [0.229,0.224,0.225]\n",
        "    )\n",
        "])\n",
        "\n",
        "val_df = datasets.ImageFolder(\n",
        "    root = r'/content/drive/MyDrive/sports/valid',\n",
        "    transform= val_transforms,\n",
        "    )"
      ]
    },
    {
      "cell_type": "code",
      "execution_count": null,
      "metadata": {
        "id": "f6N32-L31J1T"
      },
      "outputs": [],
      "source": [
        "train_loader = torch.utils.data.DataLoader(train_df, batch_size=32, shuffle=True)\n",
        "val_loader = torch.utils.data.DataLoader(val_df, batch_size=100, shuffle=False)"
      ]
    },
    {
      "cell_type": "code",
      "execution_count": null,
      "metadata": {
        "id": "qbBMyQO_ogxV"
      },
      "outputs": [],
      "source": [
        "class CNNet(nn.Module):\n",
        "  def __init__(self):\n",
        "    super(CNNet, self).__init__()\n",
        "    self.conv1 = nn.Sequential(\n",
        "      nn.Conv2d(in_channels=3, out_channels=64, kernel_size=3, padding='same'),\n",
        "      nn.ReLU(),\n",
        "      nn.BatchNorm2d(64),\n",
        "      nn.Conv2d(in_channels=64, out_channels=64, kernel_size=3, padding='same'),\n",
        "      nn.ReLU(),\n",
        "      nn.BatchNorm2d(64),\n",
        "      nn.MaxPool2d(2),\n",
        "      nn.Dropout(p=0.2)\n",
        "    ) #224 -> 112\n",
        "    self.conv2 = nn.Sequential(\n",
        "      nn.Conv2d(in_channels=64, out_channels=128, kernel_size=3, padding='same'),\n",
        "      nn.ReLU(),\n",
        "      nn.BatchNorm2d(128),\n",
        "      nn.Conv2d(in_channels=128, out_channels=128, kernel_size=3, padding='same'),\n",
        "      nn.ReLU(),\n",
        "      nn.BatchNorm2d(128),\n",
        "      nn.MaxPool2d(2),\n",
        "      nn.Dropout(p=0.2)\n",
        "    ) #112 -> 56\n",
        "    self.conv3 = nn.Sequential(\n",
        "      nn.Conv2d(in_channels=128, out_channels=64, kernel_size=3, padding='same'),\n",
        "      nn.ReLU(),\n",
        "      nn.BatchNorm2d(64),\n",
        "      nn.Conv2d(in_channels=64, out_channels=64, kernel_size=3, padding='same'),\n",
        "      nn.ReLU(),\n",
        "      nn.BatchNorm2d(64),\n",
        "      nn.MaxPool2d(2),\n",
        "      nn.Dropout(p=0.2)\n",
        "    ) #56 -> 28\n",
        "    self.func1 = nn.Sequential(\n",
        "        nn.Flatten(),\n",
        "        nn.Linear(64*28*28, 512),\n",
        "        nn.ReLU(),\n",
        "        nn.BatchNorm1d(512),\n",
        "        nn.Dropout(p=0.2)\n",
        "    )\n",
        "    self.func2 = nn.Sequential(\n",
        "        nn.Linear(512, 256),\n",
        "        nn.ReLU(),\n",
        "        nn.BatchNorm1d(256),\n",
        "        nn.Dropout(p=0.2)\n",
        "    )\n",
        "    self.func3 = nn.Linear(256, 100)\n",
        "\n",
        "  def forward(self, x):\n",
        "    x = self.conv1(x)\n",
        "    x = self.conv2(x)\n",
        "    x = self.conv3(x)\n",
        "    x = self.func1(x)\n",
        "    x = self.func2(x)\n",
        "    x = self.func3(x)\n",
        "    out = nn.functional.log_softmax(x, dim=1)\n",
        "    return out"
      ]
    },
    {
      "cell_type": "code",
      "execution_count": null,
      "metadata": {
        "id": "Npav-V-CzhzS"
      },
      "outputs": [],
      "source": [
        "device = torch.device('cuda')\n",
        "model = CNNet().to(device)\n",
        "loss_function = nn.NLLLoss() #for logsoftmax\n",
        "optimizer = optim.Adam(model.parameters(), lr = 0.001)\n",
        "\n",
        "def train(\n",
        "    model, device=None, train_loader=train_loader, val_loader=val_loader,\n",
        "    loss_function=loss_function, optimizer=optimizer, epochs=10\n",
        "  ):\n",
        "  train_loss = []\n",
        "  train_accuracy = []\n",
        "  val_loss = []\n",
        "  val_accuracy = []\n",
        "\n",
        "  for e in range(epochs):\n",
        "    model.train()\n",
        "    total = 0\n",
        "    losses = 0.0\n",
        "    corrects = 0\n",
        "    train_running_loss = 0\n",
        "    for i, (X,y) in enumerate(train_loader):\n",
        "      if device:\n",
        "        X,y = X.to(device), y.to(device)\n",
        "      optimizer.zero_grad()\n",
        "      output = model(X)\n",
        "      loss = loss_function(output, y)\n",
        "      loss.backward()\n",
        "      optimizer.step()\n",
        "      _, pred = torch.max(output.data, 1)\n",
        "\n",
        "      losses += loss.item()/X.size(0)\n",
        "      corrects += torch.sum(pred == y.data)/X.size(0)\n",
        "    train_loss.append(losses/len(train_loader))\n",
        "    train_accuracy.append(corrects/len(train_loader))\n",
        "\n",
        "    if True:\n",
        "      model.eval()\n",
        "      lossest = 0.0\n",
        "      correctst = 0\n",
        "      for Xt, yt in val_loader:\n",
        "        with torch.no_grad():\n",
        "          if device:\n",
        "            Xt,yt = Xt.to(device), yt.to(device)\n",
        "          outputt = model(Xt)\n",
        "          losst = loss_function(outputt, yt)\n",
        "          _, predt = torch.max(outputt.data, 1)\n",
        "          lossest += losst.item()/Xt.size(0)\n",
        "          correctst += torch.sum(predt == yt.data)/Xt.size(0)\n",
        "      val_loss.append(lossest/len(val_loader))\n",
        "      val_accuracy.append(correctst.double()/len(val_loader))\n",
        "      print(f\"epochs: {e}, Train loss: {train_loss[e]:.4f}, Val loss: {val_loss[e]:.4f}\")\n",
        "  return train_accuracy,val_accuracy"
      ]
    },
    {
      "cell_type": "code",
      "execution_count": null,
      "metadata": {
        "colab": {
          "base_uri": "https://localhost:8080/"
        },
        "id": "3XPIOXWMtzXT",
        "outputId": "6b3cb7b0-5639-4272-815d-266603813fce"
      },
      "outputs": [
        {
          "data": {
            "text/plain": [
              "[tensor(0.2740, device='cuda:0', dtype=torch.float64),\n",
              " tensor(0.3860, device='cuda:0', dtype=torch.float64),\n",
              " tensor(0.4800, device='cuda:0', dtype=torch.float64),\n",
              " tensor(0.5160, device='cuda:0', dtype=torch.float64),\n",
              " tensor(0.5800, device='cuda:0', dtype=torch.float64),\n",
              " tensor(0.5340, device='cuda:0', dtype=torch.float64),\n",
              " tensor(0.5760, device='cuda:0', dtype=torch.float64),\n",
              " tensor(0.6180, device='cuda:0', dtype=torch.float64),\n",
              " tensor(0.6300, device='cuda:0', dtype=torch.float64),\n",
              " tensor(0.6220, device='cuda:0', dtype=torch.float64)]"
            ]
          },
          "execution_count": 9,
          "metadata": {},
          "output_type": "execute_result"
        }
      ],
      "source": [
        "acct"
      ]
    },
    {
      "cell_type": "code",
      "execution_count": null,
      "metadata": {
        "colab": {
          "base_uri": "https://localhost:8080/"
        },
        "id": "KTyCQfKi0744",
        "outputId": "e757810d-09a2-40b0-f4d1-9ca7912b7f02"
      },
      "outputs": [
        {
          "name": "stdout",
          "output_type": "stream",
          "text": [
            "epochs: 0, Train loss: 0.0236, Val loss: 0.0142\n",
            "epochs: 1, Train loss: 0.0174, Val loss: 0.0146\n",
            "epochs: 2, Train loss: 0.0156, Val loss: 0.0149\n",
            "epochs: 3, Train loss: 0.0140, Val loss: 0.0154\n",
            "epochs: 4, Train loss: 0.0124, Val loss: 0.0157\n",
            "epochs: 5, Train loss: 0.0117, Val loss: 0.0146\n",
            "epochs: 6, Train loss: 0.0106, Val loss: 0.0153\n",
            "epochs: 7, Train loss: 0.0115, Val loss: 0.0151\n",
            "epochs: 8, Train loss: 0.0094, Val loss: 0.0151\n",
            "epochs: 9, Train loss: 0.0087, Val loss: 0.0159\n"
          ]
        }
      ],
      "source": [
        "acc, acct = train(model, device=device, epochs=10)"
      ]
    }
  ],
  "metadata": {
    "accelerator": "GPU",
    "colab": {
      "gpuType": "T4",
      "provenance": []
    },
    "kernelspec": {
      "display_name": "Python 3",
      "name": "python3"
    },
    "language_info": {
      "name": "python"
    }
  },
  "nbformat": 4,
  "nbformat_minor": 0
}
